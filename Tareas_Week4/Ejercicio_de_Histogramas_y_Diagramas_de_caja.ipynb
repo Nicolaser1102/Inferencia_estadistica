{
  "nbformat": 4,
  "nbformat_minor": 0,
  "metadata": {
    "colab": {
      "name": "Ejercicio_de_Histogramas_y_Diagramas_de_caja.ipynb",
      "provenance": [],
      "authorship_tag": "ABX9TyOLJlIQr44BrYcuvJbsOEqh",
      "include_colab_link": true
    },
    "kernelspec": {
      "name": "python3",
      "display_name": "Python 3"
    },
    "language_info": {
      "name": "python"
    }
  },
  "cells": [
    {
      "cell_type": "markdown",
      "metadata": {
        "id": "view-in-github",
        "colab_type": "text"
      },
      "source": [
        "<a href=\"https://colab.research.google.com/github/Nicolaser1102/Inferencia_estadistica/blob/main/Tareas_Week4/Ejercicio_de_Histogramas_y_Diagramas_de_caja.ipynb\" target=\"_parent\"><img src=\"https://colab.research.google.com/assets/colab-badge.svg\" alt=\"Open In Colab\"/></a>"
      ]
    },
    {
      "cell_type": "markdown",
      "source": [
        "# CODING DOJO \n",
        "## Fecha creación:25/1/2022\n",
        "## Fecha de actualización: 26/1/2022\n",
        "## Esteban Simbaña\n",
        "\n",
        "#Ejercicio de Histogramas y Diagramas de caja "
      ],
      "metadata": {
        "id": "2YN3uy6ecCBH"
      }
    },
    {
      "cell_type": "markdown",
      "source": [
        "# Montamos los recursos que necesitaremos"
      ],
      "metadata": {
        "id": "6_SHv9NlmVXJ"
      }
    },
    {
      "cell_type": "code",
      "execution_count": 69,
      "metadata": {
        "colab": {
          "base_uri": "https://localhost:8080/"
        },
        "id": "X1To2hSejOal",
        "outputId": "5c38431a-8130-4479-ea4e-4e78e7e1e6e0"
      },
      "outputs": [
        {
          "output_type": "stream",
          "name": "stdout",
          "text": [
            "Drive already mounted at /content/drive; to attempt to forcibly remount, call drive.mount(\"/content/drive\", force_remount=True).\n"
          ]
        }
      ],
      "source": [
        "from google.colab import drive\n",
        "drive.mount('/content/drive')"
      ]
    },
    {
      "cell_type": "code",
      "source": [
        "import matplotlib.pyplot as plt\n",
        "import seaborn as sns\n",
        "import pandas as pd\n",
        "import numpy as np"
      ],
      "metadata": {
        "id": "7s-SDVsnjfFJ"
      },
      "execution_count": 70,
      "outputs": []
    },
    {
      "cell_type": "markdown",
      "source": [
        "# Montamos df"
      ],
      "metadata": {
        "id": "P5yVxrQhmc1B"
      }
    },
    {
      "cell_type": "code",
      "source": [
        "filename = '/content/drive/MyDrive/Coding Dojo/Códigos/Week4/Deberes/Ejercicio de Histogramas y Diagramas de caja/catsvdogs.xlsx'\n",
        "df = pd.read_excel(filename)\n",
        "df.head()"
      ],
      "metadata": {
        "colab": {
          "base_uri": "https://localhost:8080/",
          "height": 285
        },
        "id": "IQhCyRpwjl_y",
        "outputId": "cb89763e-98fc-4095-a78b-c22896de1002"
      },
      "execution_count": 71,
      "outputs": [
        {
          "output_type": "execute_result",
          "data": {
            "text/html": [
              "\n",
              "  <div id=\"df-cf3dee8d-cfc6-4a9b-bef1-b2982e284651\">\n",
              "    <div class=\"colab-df-container\">\n",
              "      <div>\n",
              "<style scoped>\n",
              "    .dataframe tbody tr th:only-of-type {\n",
              "        vertical-align: middle;\n",
              "    }\n",
              "\n",
              "    .dataframe tbody tr th {\n",
              "        vertical-align: top;\n",
              "    }\n",
              "\n",
              "    .dataframe thead th {\n",
              "        text-align: right;\n",
              "    }\n",
              "</style>\n",
              "<table border=\"1\" class=\"dataframe\">\n",
              "  <thead>\n",
              "    <tr style=\"text-align: right;\">\n",
              "      <th></th>\n",
              "      <th>Location</th>\n",
              "      <th>Number of Households (in 1000)</th>\n",
              "      <th>Percentage of households with pets</th>\n",
              "      <th>Number of Pet Households (in 1000)</th>\n",
              "      <th>Percentage of Dog Owners</th>\n",
              "      <th>Dog Owning Households (1000s)</th>\n",
              "      <th>Mean Number of Dogs per household</th>\n",
              "      <th>Dog Population (in 1000)</th>\n",
              "      <th>Percentage of Cat Owners</th>\n",
              "      <th>Cat Owning Households</th>\n",
              "      <th>Mean Number of Cats</th>\n",
              "      <th>Cat Population</th>\n",
              "    </tr>\n",
              "  </thead>\n",
              "  <tbody>\n",
              "    <tr>\n",
              "      <th>0</th>\n",
              "      <td>Alabama</td>\n",
              "      <td>1828</td>\n",
              "      <td>59.5</td>\n",
              "      <td>1088</td>\n",
              "      <td>44.1</td>\n",
              "      <td>807</td>\n",
              "      <td>1.7</td>\n",
              "      <td>1410</td>\n",
              "      <td>27.4</td>\n",
              "      <td>501</td>\n",
              "      <td>2.5</td>\n",
              "      <td>1252</td>\n",
              "    </tr>\n",
              "    <tr>\n",
              "      <th>1</th>\n",
              "      <td>Arizona</td>\n",
              "      <td>2515</td>\n",
              "      <td>59.5</td>\n",
              "      <td>1497</td>\n",
              "      <td>40.1</td>\n",
              "      <td>1008</td>\n",
              "      <td>1.8</td>\n",
              "      <td>1798</td>\n",
              "      <td>29.6</td>\n",
              "      <td>743</td>\n",
              "      <td>1.9</td>\n",
              "      <td>1438</td>\n",
              "    </tr>\n",
              "    <tr>\n",
              "      <th>2</th>\n",
              "      <td>Arkansas</td>\n",
              "      <td>1148</td>\n",
              "      <td>62.4</td>\n",
              "      <td>716</td>\n",
              "      <td>47.9</td>\n",
              "      <td>550</td>\n",
              "      <td>2.0</td>\n",
              "      <td>1097</td>\n",
              "      <td>30.6</td>\n",
              "      <td>351</td>\n",
              "      <td>2.3</td>\n",
              "      <td>810</td>\n",
              "    </tr>\n",
              "    <tr>\n",
              "      <th>3</th>\n",
              "      <td>California</td>\n",
              "      <td>12974</td>\n",
              "      <td>52.9</td>\n",
              "      <td>6865</td>\n",
              "      <td>32.8</td>\n",
              "      <td>4260</td>\n",
              "      <td>1.6</td>\n",
              "      <td>6687</td>\n",
              "      <td>28.3</td>\n",
              "      <td>3687</td>\n",
              "      <td>1.9</td>\n",
              "      <td>7118</td>\n",
              "    </tr>\n",
              "    <tr>\n",
              "      <th>4</th>\n",
              "      <td>Colorado</td>\n",
              "      <td>1986</td>\n",
              "      <td>61.3</td>\n",
              "      <td>1217</td>\n",
              "      <td>42.5</td>\n",
              "      <td>845</td>\n",
              "      <td>1.6</td>\n",
              "      <td>1349</td>\n",
              "      <td>32.3</td>\n",
              "      <td>642</td>\n",
              "      <td>1.9</td>\n",
              "      <td>1191</td>\n",
              "    </tr>\n",
              "  </tbody>\n",
              "</table>\n",
              "</div>\n",
              "      <button class=\"colab-df-convert\" onclick=\"convertToInteractive('df-cf3dee8d-cfc6-4a9b-bef1-b2982e284651')\"\n",
              "              title=\"Convert this dataframe to an interactive table.\"\n",
              "              style=\"display:none;\">\n",
              "        \n",
              "  <svg xmlns=\"http://www.w3.org/2000/svg\" height=\"24px\"viewBox=\"0 0 24 24\"\n",
              "       width=\"24px\">\n",
              "    <path d=\"M0 0h24v24H0V0z\" fill=\"none\"/>\n",
              "    <path d=\"M18.56 5.44l.94 2.06.94-2.06 2.06-.94-2.06-.94-.94-2.06-.94 2.06-2.06.94zm-11 1L8.5 8.5l.94-2.06 2.06-.94-2.06-.94L8.5 2.5l-.94 2.06-2.06.94zm10 10l.94 2.06.94-2.06 2.06-.94-2.06-.94-.94-2.06-.94 2.06-2.06.94z\"/><path d=\"M17.41 7.96l-1.37-1.37c-.4-.4-.92-.59-1.43-.59-.52 0-1.04.2-1.43.59L10.3 9.45l-7.72 7.72c-.78.78-.78 2.05 0 2.83L4 21.41c.39.39.9.59 1.41.59.51 0 1.02-.2 1.41-.59l7.78-7.78 2.81-2.81c.8-.78.8-2.07 0-2.86zM5.41 20L4 18.59l7.72-7.72 1.47 1.35L5.41 20z\"/>\n",
              "  </svg>\n",
              "      </button>\n",
              "      \n",
              "  <style>\n",
              "    .colab-df-container {\n",
              "      display:flex;\n",
              "      flex-wrap:wrap;\n",
              "      gap: 12px;\n",
              "    }\n",
              "\n",
              "    .colab-df-convert {\n",
              "      background-color: #E8F0FE;\n",
              "      border: none;\n",
              "      border-radius: 50%;\n",
              "      cursor: pointer;\n",
              "      display: none;\n",
              "      fill: #1967D2;\n",
              "      height: 32px;\n",
              "      padding: 0 0 0 0;\n",
              "      width: 32px;\n",
              "    }\n",
              "\n",
              "    .colab-df-convert:hover {\n",
              "      background-color: #E2EBFA;\n",
              "      box-shadow: 0px 1px 2px rgba(60, 64, 67, 0.3), 0px 1px 3px 1px rgba(60, 64, 67, 0.15);\n",
              "      fill: #174EA6;\n",
              "    }\n",
              "\n",
              "    [theme=dark] .colab-df-convert {\n",
              "      background-color: #3B4455;\n",
              "      fill: #D2E3FC;\n",
              "    }\n",
              "\n",
              "    [theme=dark] .colab-df-convert:hover {\n",
              "      background-color: #434B5C;\n",
              "      box-shadow: 0px 1px 3px 1px rgba(0, 0, 0, 0.15);\n",
              "      filter: drop-shadow(0px 1px 2px rgba(0, 0, 0, 0.3));\n",
              "      fill: #FFFFFF;\n",
              "    }\n",
              "  </style>\n",
              "\n",
              "      <script>\n",
              "        const buttonEl =\n",
              "          document.querySelector('#df-cf3dee8d-cfc6-4a9b-bef1-b2982e284651 button.colab-df-convert');\n",
              "        buttonEl.style.display =\n",
              "          google.colab.kernel.accessAllowed ? 'block' : 'none';\n",
              "\n",
              "        async function convertToInteractive(key) {\n",
              "          const element = document.querySelector('#df-cf3dee8d-cfc6-4a9b-bef1-b2982e284651');\n",
              "          const dataTable =\n",
              "            await google.colab.kernel.invokeFunction('convertToInteractive',\n",
              "                                                     [key], {});\n",
              "          if (!dataTable) return;\n",
              "\n",
              "          const docLinkHtml = 'Like what you see? Visit the ' +\n",
              "            '<a target=\"_blank\" href=https://colab.research.google.com/notebooks/data_table.ipynb>data table notebook</a>'\n",
              "            + ' to learn more about interactive tables.';\n",
              "          element.innerHTML = '';\n",
              "          dataTable['output_type'] = 'display_data';\n",
              "          await google.colab.output.renderOutput(dataTable, element);\n",
              "          const docLink = document.createElement('div');\n",
              "          docLink.innerHTML = docLinkHtml;\n",
              "          element.appendChild(docLink);\n",
              "        }\n",
              "      </script>\n",
              "    </div>\n",
              "  </div>\n",
              "  "
            ],
            "text/plain": [
              "     Location  ...  Cat Population\n",
              "0     Alabama  ...            1252\n",
              "1     Arizona  ...            1438\n",
              "2    Arkansas  ...             810\n",
              "3  California  ...            7118\n",
              "4    Colorado  ...            1191\n",
              "\n",
              "[5 rows x 12 columns]"
            ]
          },
          "metadata": {},
          "execution_count": 71
        }
      ]
    },
    {
      "cell_type": "markdown",
      "source": [
        "# DF "
      ],
      "metadata": {
        "id": "8TR-_AZImUJW"
      }
    },
    {
      "cell_type": "code",
      "source": [
        "df.head()"
      ],
      "metadata": {
        "colab": {
          "base_uri": "https://localhost:8080/",
          "height": 285
        },
        "id": "bzTD0HaFjxrR",
        "outputId": "50ed2d46-1f70-479b-b7f8-4e660be45832"
      },
      "execution_count": 72,
      "outputs": [
        {
          "output_type": "execute_result",
          "data": {
            "text/html": [
              "\n",
              "  <div id=\"df-95c6e1db-136f-418a-b4ef-7d5764113931\">\n",
              "    <div class=\"colab-df-container\">\n",
              "      <div>\n",
              "<style scoped>\n",
              "    .dataframe tbody tr th:only-of-type {\n",
              "        vertical-align: middle;\n",
              "    }\n",
              "\n",
              "    .dataframe tbody tr th {\n",
              "        vertical-align: top;\n",
              "    }\n",
              "\n",
              "    .dataframe thead th {\n",
              "        text-align: right;\n",
              "    }\n",
              "</style>\n",
              "<table border=\"1\" class=\"dataframe\">\n",
              "  <thead>\n",
              "    <tr style=\"text-align: right;\">\n",
              "      <th></th>\n",
              "      <th>Location</th>\n",
              "      <th>Number of Households (in 1000)</th>\n",
              "      <th>Percentage of households with pets</th>\n",
              "      <th>Number of Pet Households (in 1000)</th>\n",
              "      <th>Percentage of Dog Owners</th>\n",
              "      <th>Dog Owning Households (1000s)</th>\n",
              "      <th>Mean Number of Dogs per household</th>\n",
              "      <th>Dog Population (in 1000)</th>\n",
              "      <th>Percentage of Cat Owners</th>\n",
              "      <th>Cat Owning Households</th>\n",
              "      <th>Mean Number of Cats</th>\n",
              "      <th>Cat Population</th>\n",
              "    </tr>\n",
              "  </thead>\n",
              "  <tbody>\n",
              "    <tr>\n",
              "      <th>0</th>\n",
              "      <td>Alabama</td>\n",
              "      <td>1828</td>\n",
              "      <td>59.5</td>\n",
              "      <td>1088</td>\n",
              "      <td>44.1</td>\n",
              "      <td>807</td>\n",
              "      <td>1.7</td>\n",
              "      <td>1410</td>\n",
              "      <td>27.4</td>\n",
              "      <td>501</td>\n",
              "      <td>2.5</td>\n",
              "      <td>1252</td>\n",
              "    </tr>\n",
              "    <tr>\n",
              "      <th>1</th>\n",
              "      <td>Arizona</td>\n",
              "      <td>2515</td>\n",
              "      <td>59.5</td>\n",
              "      <td>1497</td>\n",
              "      <td>40.1</td>\n",
              "      <td>1008</td>\n",
              "      <td>1.8</td>\n",
              "      <td>1798</td>\n",
              "      <td>29.6</td>\n",
              "      <td>743</td>\n",
              "      <td>1.9</td>\n",
              "      <td>1438</td>\n",
              "    </tr>\n",
              "    <tr>\n",
              "      <th>2</th>\n",
              "      <td>Arkansas</td>\n",
              "      <td>1148</td>\n",
              "      <td>62.4</td>\n",
              "      <td>716</td>\n",
              "      <td>47.9</td>\n",
              "      <td>550</td>\n",
              "      <td>2.0</td>\n",
              "      <td>1097</td>\n",
              "      <td>30.6</td>\n",
              "      <td>351</td>\n",
              "      <td>2.3</td>\n",
              "      <td>810</td>\n",
              "    </tr>\n",
              "    <tr>\n",
              "      <th>3</th>\n",
              "      <td>California</td>\n",
              "      <td>12974</td>\n",
              "      <td>52.9</td>\n",
              "      <td>6865</td>\n",
              "      <td>32.8</td>\n",
              "      <td>4260</td>\n",
              "      <td>1.6</td>\n",
              "      <td>6687</td>\n",
              "      <td>28.3</td>\n",
              "      <td>3687</td>\n",
              "      <td>1.9</td>\n",
              "      <td>7118</td>\n",
              "    </tr>\n",
              "    <tr>\n",
              "      <th>4</th>\n",
              "      <td>Colorado</td>\n",
              "      <td>1986</td>\n",
              "      <td>61.3</td>\n",
              "      <td>1217</td>\n",
              "      <td>42.5</td>\n",
              "      <td>845</td>\n",
              "      <td>1.6</td>\n",
              "      <td>1349</td>\n",
              "      <td>32.3</td>\n",
              "      <td>642</td>\n",
              "      <td>1.9</td>\n",
              "      <td>1191</td>\n",
              "    </tr>\n",
              "  </tbody>\n",
              "</table>\n",
              "</div>\n",
              "      <button class=\"colab-df-convert\" onclick=\"convertToInteractive('df-95c6e1db-136f-418a-b4ef-7d5764113931')\"\n",
              "              title=\"Convert this dataframe to an interactive table.\"\n",
              "              style=\"display:none;\">\n",
              "        \n",
              "  <svg xmlns=\"http://www.w3.org/2000/svg\" height=\"24px\"viewBox=\"0 0 24 24\"\n",
              "       width=\"24px\">\n",
              "    <path d=\"M0 0h24v24H0V0z\" fill=\"none\"/>\n",
              "    <path d=\"M18.56 5.44l.94 2.06.94-2.06 2.06-.94-2.06-.94-.94-2.06-.94 2.06-2.06.94zm-11 1L8.5 8.5l.94-2.06 2.06-.94-2.06-.94L8.5 2.5l-.94 2.06-2.06.94zm10 10l.94 2.06.94-2.06 2.06-.94-2.06-.94-.94-2.06-.94 2.06-2.06.94z\"/><path d=\"M17.41 7.96l-1.37-1.37c-.4-.4-.92-.59-1.43-.59-.52 0-1.04.2-1.43.59L10.3 9.45l-7.72 7.72c-.78.78-.78 2.05 0 2.83L4 21.41c.39.39.9.59 1.41.59.51 0 1.02-.2 1.41-.59l7.78-7.78 2.81-2.81c.8-.78.8-2.07 0-2.86zM5.41 20L4 18.59l7.72-7.72 1.47 1.35L5.41 20z\"/>\n",
              "  </svg>\n",
              "      </button>\n",
              "      \n",
              "  <style>\n",
              "    .colab-df-container {\n",
              "      display:flex;\n",
              "      flex-wrap:wrap;\n",
              "      gap: 12px;\n",
              "    }\n",
              "\n",
              "    .colab-df-convert {\n",
              "      background-color: #E8F0FE;\n",
              "      border: none;\n",
              "      border-radius: 50%;\n",
              "      cursor: pointer;\n",
              "      display: none;\n",
              "      fill: #1967D2;\n",
              "      height: 32px;\n",
              "      padding: 0 0 0 0;\n",
              "      width: 32px;\n",
              "    }\n",
              "\n",
              "    .colab-df-convert:hover {\n",
              "      background-color: #E2EBFA;\n",
              "      box-shadow: 0px 1px 2px rgba(60, 64, 67, 0.3), 0px 1px 3px 1px rgba(60, 64, 67, 0.15);\n",
              "      fill: #174EA6;\n",
              "    }\n",
              "\n",
              "    [theme=dark] .colab-df-convert {\n",
              "      background-color: #3B4455;\n",
              "      fill: #D2E3FC;\n",
              "    }\n",
              "\n",
              "    [theme=dark] .colab-df-convert:hover {\n",
              "      background-color: #434B5C;\n",
              "      box-shadow: 0px 1px 3px 1px rgba(0, 0, 0, 0.15);\n",
              "      filter: drop-shadow(0px 1px 2px rgba(0, 0, 0, 0.3));\n",
              "      fill: #FFFFFF;\n",
              "    }\n",
              "  </style>\n",
              "\n",
              "      <script>\n",
              "        const buttonEl =\n",
              "          document.querySelector('#df-95c6e1db-136f-418a-b4ef-7d5764113931 button.colab-df-convert');\n",
              "        buttonEl.style.display =\n",
              "          google.colab.kernel.accessAllowed ? 'block' : 'none';\n",
              "\n",
              "        async function convertToInteractive(key) {\n",
              "          const element = document.querySelector('#df-95c6e1db-136f-418a-b4ef-7d5764113931');\n",
              "          const dataTable =\n",
              "            await google.colab.kernel.invokeFunction('convertToInteractive',\n",
              "                                                     [key], {});\n",
              "          if (!dataTable) return;\n",
              "\n",
              "          const docLinkHtml = 'Like what you see? Visit the ' +\n",
              "            '<a target=\"_blank\" href=https://colab.research.google.com/notebooks/data_table.ipynb>data table notebook</a>'\n",
              "            + ' to learn more about interactive tables.';\n",
              "          element.innerHTML = '';\n",
              "          dataTable['output_type'] = 'display_data';\n",
              "          await google.colab.output.renderOutput(dataTable, element);\n",
              "          const docLink = document.createElement('div');\n",
              "          docLink.innerHTML = docLinkHtml;\n",
              "          element.appendChild(docLink);\n",
              "        }\n",
              "      </script>\n",
              "    </div>\n",
              "  </div>\n",
              "  "
            ],
            "text/plain": [
              "     Location  ...  Cat Population\n",
              "0     Alabama  ...            1252\n",
              "1     Arizona  ...            1438\n",
              "2    Arkansas  ...             810\n",
              "3  California  ...            7118\n",
              "4    Colorado  ...            1191\n",
              "\n",
              "[5 rows x 12 columns]"
            ]
          },
          "metadata": {},
          "execution_count": 72
        }
      ]
    },
    {
      "cell_type": "markdown",
      "source": [
        "## Limpieza de datos"
      ],
      "metadata": {
        "id": "7ld_KrBnmxx5"
      }
    },
    {
      "cell_type": "code",
      "source": [
        "df.info() #vemos que tipos de datos hay,si están correctos o si hay datos faltantes "
      ],
      "metadata": {
        "colab": {
          "base_uri": "https://localhost:8080/"
        },
        "id": "qQv0SBWEj_8t",
        "outputId": "8bf005b8-856f-4fe0-eedb-d3cb229cd330"
      },
      "execution_count": 73,
      "outputs": [
        {
          "output_type": "stream",
          "name": "stdout",
          "text": [
            "<class 'pandas.core.frame.DataFrame'>\n",
            "RangeIndex: 49 entries, 0 to 48\n",
            "Data columns (total 12 columns):\n",
            " #   Column                              Non-Null Count  Dtype  \n",
            "---  ------                              --------------  -----  \n",
            " 0   Location                            49 non-null     object \n",
            " 1   Number of Households (in 1000)      49 non-null     int64  \n",
            " 2   Percentage of households with pets  49 non-null     float64\n",
            " 3   Number of Pet Households (in 1000)  49 non-null     int64  \n",
            " 4   Percentage of Dog Owners            49 non-null     float64\n",
            " 5   Dog Owning Households (1000s)       49 non-null     int64  \n",
            " 6   Mean Number of Dogs per household   49 non-null     float64\n",
            " 7   Dog Population (in 1000)            49 non-null     int64  \n",
            " 8   Percentage of Cat Owners            49 non-null     float64\n",
            " 9   Cat Owning Households               49 non-null     int64  \n",
            " 10  Mean Number of Cats                 49 non-null     float64\n",
            " 11  Cat Population                      49 non-null     int64  \n",
            "dtypes: float64(5), int64(6), object(1)\n",
            "memory usage: 4.7+ KB\n"
          ]
        }
      ]
    },
    {
      "cell_type": "markdown",
      "source": [
        "- Los datos están correctos y no hay 'datos faltantes' por lo que se puede trabajar con la tabla"
      ],
      "metadata": {
        "id": "K7LOkyVknF_7"
      }
    },
    {
      "cell_type": "markdown",
      "source": [
        "# Ejercicio de Histogramas y Diagramas de caja\n",
        "  - Tarea\n",
        "Responde y completa lo siguiente:\n",
        "\n",
        "1 Traza un histograma del porcentaje de poseedores de perros.\n",
        "\n",
        "2 Traza un histograma del porcentaje de poseedores de gatos.\n",
        "\n",
        "3 a. ¿Qué podemos ver al comparar estos dos histogramas? ¿Qué información nos da?\n",
        "\n",
        "3 b. Opcional/Extra: traza estos dos histogramas en el mismo plot. A continuación, un ejemplo de cómo debería lucir:\n",
        "\n",
        "4 Crea dos diagramas de caja en el mismo plot: uno con el número medio de gatos por hogar y el otro, del número medio de perros. \n",
        "\n",
        "5 ¿Qué podemos ver al comparar estos dos diagramas de caja? ¿Qué información nos da?"
      ],
      "metadata": {
        "id": "fhze4u9VnSwK"
      }
    },
    {
      "cell_type": "markdown",
      "source": [
        "  ## 1. Traza un histograma del porcentaje de poseedores de perros."
      ],
      "metadata": {
        "id": "JWkGPRtnn_G-"
      }
    },
    {
      "cell_type": "markdown",
      "source": [
        "Para crear este histograma usaremos la columna 'Percentage of Dog Owners'"
      ],
      "metadata": {
        "id": "S_CuO2WboD0z"
      }
    },
    {
      "cell_type": "code",
      "source": [
        "df1 = df\n",
        "#creamos un df filtrado para crear el histograma\n",
        "df1 = df1.loc[:,'Percentage of Dog Owners']\n",
        "df1.head()"
      ],
      "metadata": {
        "colab": {
          "base_uri": "https://localhost:8080/"
        },
        "id": "3AqxtONXmf2B",
        "outputId": "62e64663-7489-4e3e-fd4b-89648b3fc773"
      },
      "execution_count": 74,
      "outputs": [
        {
          "output_type": "execute_result",
          "data": {
            "text/plain": [
              "0    44.1\n",
              "1    40.1\n",
              "2    47.9\n",
              "3    32.8\n",
              "4    42.5\n",
              "Name: Percentage of Dog Owners, dtype: float64"
            ]
          },
          "metadata": {},
          "execution_count": 74
        }
      ]
    },
    {
      "cell_type": "code",
      "source": [
        "#creamos el grafico\n",
        "figura = plt.figure(figsize=(15,7))\n",
        "ax = figura.gca()\n",
        "sns.histplot(df1)\n",
        "pass"
      ],
      "metadata": {
        "colab": {
          "base_uri": "https://localhost:8080/",
          "height": 442
        },
        "id": "CCnuDKD0opcc",
        "outputId": "27f1d3d1-d5a2-43d4-dc29-f01b5791c4e6"
      },
      "execution_count": 75,
      "outputs": [
        {
          "output_type": "display_data",
          "data": {
            "image/png": "[encoded data removed]",
            "text/plain": [
              "<Figure size 1080x504 with 1 Axes>"
            ]
          },
          "metadata": {
            "needs_background": "light"
          }
        }
      ]
    },
    {
      "cell_type": "code",
      "source": [
        "#mejoramos el gráfico\n",
        "\n",
        "figura_1 = plt.figure(figsize=(10,7))\n",
        "ax = figura_1.gca()\n",
        "sns.histplot(df1,bins = (11), color='#2ecc71')\n",
        "\n",
        "\n",
        "plt.xlabel('Porcentaje de poseedores de perros',fontsize= 20);\n",
        "plt.ylabel('Número de estados',fontsize=20);\n",
        "plt.title('Histograma porcentaje de poseedores de perros',fontsize = 20);\n",
        "\n",
        "plt.xticks(fontsize=15)\n",
        "plt.yticks(fontsize= 15)\n",
        "pass"
      ],
      "metadata": {
        "colab": {
          "base_uri": "https://localhost:8080/",
          "height": 477
        },
        "id": "I9_Ovy6FqsI7",
        "outputId": "0025d01d-907b-43cd-9f8d-2ef53e2586f5"
      },
      "execution_count": 76,
      "outputs": [
        {
          "output_type": "display_data",
          "data": {
            "image/png": "[encoded data removed]",
            "text/plain": [
              "<Figure size 720x504 with 1 Axes>"
            ]
          },
          "metadata": {
            "needs_background": "light"
          }
        }
      ]
    },
    {
      "cell_type": "markdown",
      "source": [
        "## 2. Traza un histograma del porcentaje de poseedores de gatos."
      ],
      "metadata": {
        "id": "vgxFC-8IO8kM"
      }
    },
    {
      "cell_type": "markdown",
      "source": [
        "Histograma de porcentaje de personas poseedoras de gatos"
      ],
      "metadata": {
        "id": "vgvMqo9uJ4Js"
      }
    },
    {
      "cell_type": "code",
      "source": [
        "#filtramos un df para crear el histograma\n",
        "grafico_2 = df.loc[:,'Percentage of Cat Owners']\n"
      ],
      "metadata": {
        "id": "5rDb8dZSKD0N"
      },
      "execution_count": 77,
      "outputs": []
    },
    {
      "cell_type": "code",
      "source": [
        "#usamos la misma 'personalizacion' del grafico 1 \n",
        "figura_2 = plt.figure(figsize=(10,7))\n",
        "ax = figura_2.gca()\n",
        "sns.histplot(grafico_2,bins = (11), color='#ED9121')\n",
        "\n",
        "\n",
        "plt.xlabel('Porcentaje de poseedores de gatos',fontsize= 20);\n",
        "plt.ylabel('Número de estados',fontsize=20);\n",
        "plt.title('Histograma porcentaje de poseedores de gatos',fontsize = 20);\n",
        "\n",
        "plt.xticks(fontsize=15)\n",
        "plt.yticks(fontsize= 15)\n",
        "pass\n"
      ],
      "metadata": {
        "colab": {
          "base_uri": "https://localhost:8080/",
          "height": 477
        },
        "id": "rRrT717jKCEh",
        "outputId": "c17a85e6-4d3f-47ca-f6f9-d45b233b63c4"
      },
      "execution_count": 78,
      "outputs": [
        {
          "output_type": "display_data",
          "data": {
            "image/png": "[encoded data removed]",
            "text/plain": [
              "<Figure size 720x504 with 1 Axes>"
            ]
          },
          "metadata": {
            "needs_background": "light"
          }
        }
      ]
    },
    {
      "cell_type": "markdown",
      "source": [
        "## 3a. ¿Qué podemos ver al comparar estos dos histogramas? ¿Qué información nos da?"
      ],
      "metadata": {
        "id": "wFDXCB6zPq4V"
      }
    },
    {
      "cell_type": "markdown",
      "source": [
        " - R = Podemos observar que en el primer histograma respecto al porcentaje de personas que tienen perros,la mayoría de estados tienen un porcentaje mayor al 30% \n",
        " \n",
        " - Mientras que en el segundo histograma que solo 16 estados tienen un porcentaje del 30%.\n",
        "\n",
        " - Conclusión :  Nos muestra que existen un número mayor de personas que tienen perros que gatos por cada Estado"
      ],
      "metadata": {
        "id": "4jOvsc3HPsJ4"
      }
    },
    {
      "cell_type": "markdown",
      "source": [
        "## 3 b. Opcional/Extra: traza estos dos histogramas en el mismo plot. A continuación, un ejemplo de cómo debería lucir:\n",
        "\n",
        "![uwu.png](data:image/png;base64,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)"
      ],
      "metadata": {
        "id": "znXB80_nYPTo"
      }
    },
    {
      "cell_type": "code",
      "source": [
        "#creamos grafico usando plt \n",
        "\n",
        "plt.figure(figsize=(10,7))\n",
        "#Grafico 1\n",
        "plt.hist(df1)\n",
        "\n",
        "#Grafico2 \n",
        "plt.hist(grafico_2)\n",
        "\n",
        "pass"
      ],
      "metadata": {
        "colab": {
          "base_uri": "https://localhost:8080/",
          "height": 428
        },
        "id": "EwTHLCZORBsR",
        "outputId": "a374ef61-cb5d-4f58-f3a4-deb74135b27b"
      },
      "execution_count": 79,
      "outputs": [
        {
          "output_type": "display_data",
          "data": {
            "image/png": "[encoded data removed]",
            "text/plain": [
              "<Figure size 720x504 with 1 Axes>"
            ]
          },
          "metadata": {
            "needs_background": "light"
          }
        }
      ]
    },
    {
      "cell_type": "code",
      "source": [
        "#Mejoramos el gráfico\n",
        "\n",
        "plt.figure(figsize=(10,7)) #tamaño de la figura\n",
        "#Grafico 1\n",
        "plt.hist(df1,bins=7,color='#2ecc71',alpha=0.9,edgecolor = \"black\",label=\"Dogs\")\n",
        "\n",
        "#Grafico2 \n",
        "plt.hist(grafico_2,bins=15,color='#ED9121', alpha=0.8,edgecolor = \"black\",label=\"Cats\")\n",
        "plt.grid\n",
        "plt.grid(alpha=0.4) #alpha se utiliza para la transparencia en los gráficos \n",
        "\n",
        "plt.xlabel('Percentaje of Animal Owners',fontsize=15) \n",
        "plt.ylabel('Count',fontsize=15) \n",
        "#mostramos legenda \n",
        "plt.legend(loc=\"upper right\") \n",
        "#se cambia el tamaño de la fuente de las gráficas \n",
        "plt.xticks(fontsize = 15)\n",
        "plt.yticks(fontsize = 15)\n",
        "pass"
      ],
      "metadata": {
        "colab": {
          "base_uri": "https://localhost:8080/",
          "height": 452
        },
        "id": "k-5KgYm_WDAP",
        "outputId": "2425948e-8d65-480f-e87f-661138287fbd"
      },
      "execution_count": 80,
      "outputs": [
        {
          "output_type": "display_data",
          "data": {
            "image/png": "[encoded data removed]",
            "text/plain": [
              "<Figure size 720x504 with 1 Axes>"
            ]
          },
          "metadata": {
            "needs_background": "light"
          }
        }
      ]
    },
    {
      "cell_type": "markdown",
      "source": [
        "## 4. Crea dos diagramas de caja en el mismo plot: uno con el número medio de gatos por hogar y el otro, del número medio de perros. "
      ],
      "metadata": {
        "id": "1NNlZ1PVcaX1"
      }
    },
    {
      "cell_type": "code",
      "source": [
        "#Datos para el primer diagrama de cajas \n",
        "mean_dogs = df.loc[:,'Mean Number of Dogs per household'].tolist()\n",
        "#Datos para el segundo diagrama de cajas \n",
        "mean_cats = df.loc[:,'Mean Number of Cats'].tolist()\n",
        "plt.figure(figsize=(18,8))\n",
        "plt.boxplot([mean_dogs,mean_cats], labels=['Perros por hogar', 'Gatos por hogar']);\n"
      ],
      "metadata": {
        "colab": {
          "base_uri": "https://localhost:8080/",
          "height": 482
        },
        "id": "ir0TDbO1Kz2h",
        "outputId": "a57c16a2-c811-447f-bd69-21b2378ee441"
      },
      "execution_count": 81,
      "outputs": [
        {
          "output_type": "display_data",
          "data": {
            "image/png": "[encoded data removed]",
            "text/plain": [
              "<Figure size 1296x576 with 1 Axes>"
            ]
          },
          "metadata": {
            "needs_background": "light"
          }
        }
      ]
    },
    {
      "cell_type": "code",
      "source": [
        "#se cambia el grafico por uno orientado a objetos\n",
        "fig, axes = plt.subplots(nrows = 1, ncols = 1, figsize = (8,5))\n",
        "boxplots = axes.boxplot([mean_dogs,mean_cats],labels=['Perros por hogar', 'Gatos por hogar'])"
      ],
      "metadata": {
        "colab": {
          "base_uri": "https://localhost:8080/",
          "height": 320
        },
        "id": "OvBwrWJqXhhY",
        "outputId": "98ec0f4c-4994-476e-d259-f34fedc871a7"
      },
      "execution_count": 82,
      "outputs": [
        {
          "output_type": "display_data",
          "data": {
            "image/png": "[encoded data removed]",
            "text/plain": [
              "<Figure size 576x360 with 1 Axes>"
            ]
          },
          "metadata": {
            "needs_background": "light"
          }
        }
      ]
    },
    {
      "cell_type": "code",
      "source": [
        "#mejoramos el gráfico\n",
        "fig, axes = plt.subplots(nrows = 1, ncols = 1, figsize = (11,8))\n",
        "boxplots = axes.boxplot([mean_dogs,mean_cats],\n",
        "           labels=['Perros por hogar', 'Gatos por hogar'],\n",
        "           widths = .7,\n",
        "           patch_artist=True,\n",
        "           medianprops = dict(linestyle='-', linewidth=2, color='#9400D3'),\n",
        "           boxprops = dict(linestyle='--', linewidth=2, color='Black', facecolor = '#ED9121', alpha = .4)\n",
        "          )\n",
        "\n",
        "boxplot1 = boxplots['boxes'][0]\n",
        "boxplot1.set_facecolor('#2ecc71')\n",
        "\n",
        "#ajustes finales\n",
        "plt.ylabel('Animales por hogar', fontsize = 20)\n",
        "plt.xticks(fontsize = 16)\n",
        "plt.yticks(fontsize = 16)\n",
        "plt.title('Boxplot: Promedio perros por hogar vs Promedio de gatos por hogar',fontsize= 25)\n",
        "pass"
      ],
      "metadata": {
        "colab": {
          "base_uri": "https://localhost:8080/",
          "height": 513
        },
        "id": "YdGKYJswVv1I",
        "outputId": "a43fcec1-7533-4e52-d259-cccc30346772"
      },
      "execution_count": 83,
      "outputs": [
        {
          "output_type": "display_data",
          "data": {
            "image/png": "[encoded data removed]",
            "text/plain": [
              "<Figure size 792x576 with 1 Axes>"
            ]
          },
          "metadata": {
            "needs_background": "light"
          }
        }
      ]
    },
    {
      "cell_type": "markdown",
      "source": [
        "## 5. ¿Qué podemos ver al comparar estos dos diagramas de caja? ¿Qué información nos da?"
      ],
      "metadata": {
        "id": "yUNyMNQmdCGl"
      }
    },
    {
      "cell_type": "markdown",
      "source": [
        "-En el primer boxplot, nos muestra:\n",
        "  *   La mediana del promedio de perros por hogar es de 1.6\n",
        "  * Hay un menor número de perros por hogar \n",
        "\n",
        "\n",
        "- Plus: Aunque más familias prefieran los perros sobre los gatos; a la hora de elegir de cuantos perros van a ser dueños, el número sera menor con respecto a los gatos \n",
        "\n"
      ],
      "metadata": {
        "id": "jeM4XjxkS1Gz"
      }
    },
    {
      "cell_type": "markdown",
      "source": [
        "-En el segundo boxplot nos muestra:\n",
        "  * La mediana de gatos por hogar es de 2\n",
        "  * Hay más gatos por hogar que perros"
      ],
      "metadata": {
        "id": "wxychifLTrzW"
      }
    },
    {
      "cell_type": "markdown",
      "source": [
        "Hipótesis:\n",
        "- Los perros son la mascota preferida por las familias en los diferentes Estados pero prefieren no tener muchos perros.\n",
        "- Las familias por el tamaño normal de un gato puede permitirse y prefiere tener más de un gato en su hogar"
      ],
      "metadata": {
        "id": "MaOns7wlT73f"
      }
    }
  ]
}